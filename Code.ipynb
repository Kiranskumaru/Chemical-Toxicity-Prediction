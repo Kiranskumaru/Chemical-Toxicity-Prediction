{
 "cells": [
  {
   "cell_type": "code",
   "execution_count": null,
   "id": "dc51a997",
   "metadata": {},
   "outputs": [],
   "source": [
    "import pandas as pd"
   ]
  },
  {
   "cell_type": "code",
   "execution_count": 2,
   "id": "fbaf6299",
   "metadata": {},
   "outputs": [],
   "source": [
    "data = pd.read_csv(\"Acute Toxicity_mouse_intraperitoneal_LD50.csv\")"
   ]
  },
  {
   "cell_type": "code",
   "execution_count": 3,
   "id": "e30418bc",
   "metadata": {},
   "outputs": [
    {
     "data": {
      "text/html": [
       "<div>\n",
       "<style scoped>\n",
       "    .dataframe tbody tr th:only-of-type {\n",
       "        vertical-align: middle;\n",
       "    }\n",
       "\n",
       "    .dataframe tbody tr th {\n",
       "        vertical-align: top;\n",
       "    }\n",
       "\n",
       "    .dataframe thead th {\n",
       "        text-align: right;\n",
       "    }\n",
       "</style>\n",
       "<table border=\"1\" class=\"dataframe\">\n",
       "  <thead>\n",
       "    <tr style=\"text-align: right;\">\n",
       "      <th></th>\n",
       "      <th>TAID</th>\n",
       "      <th>Pubchem CID</th>\n",
       "      <th>IUPAC Name</th>\n",
       "      <th>SMILES</th>\n",
       "      <th>Canonical SMILES</th>\n",
       "      <th>InChIKey</th>\n",
       "      <th>mouse_intraperitoneal_LD50</th>\n",
       "    </tr>\n",
       "  </thead>\n",
       "  <tbody>\n",
       "    <tr>\n",
       "      <th>0</th>\n",
       "      <td>TOX-145</td>\n",
       "      <td>785</td>\n",
       "      <td>benzene-1,4-diol</td>\n",
       "      <td>Oc1ccc(O)cc1</td>\n",
       "      <td>Oc1ccc(O)cc1</td>\n",
       "      <td>QIGBRXMKCJKVMJ-UHFFFAOYSA-N</td>\n",
       "      <td>3.041835</td>\n",
       "    </tr>\n",
       "    <tr>\n",
       "      <th>1</th>\n",
       "      <td>TOX-245</td>\n",
       "      <td>5453</td>\n",
       "      <td>tris(aziridin-1-yl)-sulfanylidene-lambda5-phos...</td>\n",
       "      <td>S=P(N1CC1)(N1CC1)N1CC1</td>\n",
       "      <td>S=P(N1CC1)(N1CC1)N1CC1</td>\n",
       "      <td>FOCVUCIESVLUNU-UHFFFAOYSA-N</td>\n",
       "      <td>4.235584</td>\n",
       "    </tr>\n",
       "    <tr>\n",
       "      <th>2</th>\n",
       "      <td>TOX-1273</td>\n",
       "      <td>727</td>\n",
       "      <td>1,2,3,4,5,6-hexachlorocyclohexane</td>\n",
       "      <td>ClC1C(Cl)C(Cl)C(Cl)C(Cl)C1Cl</td>\n",
       "      <td>ClC1C(Cl)C(Cl)C(Cl)C(Cl)C1Cl</td>\n",
       "      <td>JLYXXMFPNIAWKQ-UHFFFAOYSA-N</td>\n",
       "      <td>3.366732</td>\n",
       "    </tr>\n",
       "    <tr>\n",
       "      <th>3</th>\n",
       "      <td>TOX-1279</td>\n",
       "      <td>4091</td>\n",
       "      <td>3-(diaminomethylidene)-1,1-dimethylguanidine</td>\n",
       "      <td>CN(C)C(=N)N=C(N)N</td>\n",
       "      <td>CN(C)C(=N)N=C(N)N</td>\n",
       "      <td>XZWYZXLIPXDOLR-UHFFFAOYSA-N</td>\n",
       "      <td>2.641604</td>\n",
       "    </tr>\n",
       "    <tr>\n",
       "      <th>4</th>\n",
       "      <td>TOX-1282</td>\n",
       "      <td>10364</td>\n",
       "      <td>2-methyl-5-propan-2-ylphenol</td>\n",
       "      <td>Cc1ccc(C(C)C)cc1O</td>\n",
       "      <td>Cc1ccc(C(C)C)cc1O</td>\n",
       "      <td>RECUKUPTGUEGMW-UHFFFAOYSA-N</td>\n",
       "      <td>3.311627</td>\n",
       "    </tr>\n",
       "  </tbody>\n",
       "</table>\n",
       "</div>"
      ],
      "text/plain": [
       "       TAID  Pubchem CID                                         IUPAC Name  \\\n",
       "0   TOX-145          785                                   benzene-1,4-diol   \n",
       "1   TOX-245         5453  tris(aziridin-1-yl)-sulfanylidene-lambda5-phos...   \n",
       "2  TOX-1273          727                  1,2,3,4,5,6-hexachlorocyclohexane   \n",
       "3  TOX-1279         4091       3-(diaminomethylidene)-1,1-dimethylguanidine   \n",
       "4  TOX-1282        10364                       2-methyl-5-propan-2-ylphenol   \n",
       "\n",
       "                         SMILES              Canonical SMILES  \\\n",
       "0                  Oc1ccc(O)cc1                  Oc1ccc(O)cc1   \n",
       "1        S=P(N1CC1)(N1CC1)N1CC1        S=P(N1CC1)(N1CC1)N1CC1   \n",
       "2  ClC1C(Cl)C(Cl)C(Cl)C(Cl)C1Cl  ClC1C(Cl)C(Cl)C(Cl)C(Cl)C1Cl   \n",
       "3             CN(C)C(=N)N=C(N)N             CN(C)C(=N)N=C(N)N   \n",
       "4             Cc1ccc(C(C)C)cc1O             Cc1ccc(C(C)C)cc1O   \n",
       "\n",
       "                      InChIKey  mouse_intraperitoneal_LD50  \n",
       "0  QIGBRXMKCJKVMJ-UHFFFAOYSA-N                    3.041835  \n",
       "1  FOCVUCIESVLUNU-UHFFFAOYSA-N                    4.235584  \n",
       "2  JLYXXMFPNIAWKQ-UHFFFAOYSA-N                    3.366732  \n",
       "3  XZWYZXLIPXDOLR-UHFFFAOYSA-N                    2.641604  \n",
       "4  RECUKUPTGUEGMW-UHFFFAOYSA-N                    3.311627  "
      ]
     },
     "execution_count": 3,
     "metadata": {},
     "output_type": "execute_result"
    }
   ],
   "source": [
    "data.head()"
   ]
  },
  {
   "cell_type": "code",
   "execution_count": 6,
   "id": "c3879752",
   "metadata": {},
   "outputs": [],
   "source": [
    "data = data.drop(columns=[\"TAID\",\"Pubchem CID\"])"
   ]
  },
  {
   "cell_type": "code",
   "execution_count": 7,
   "id": "fde2e845",
   "metadata": {},
   "outputs": [
    {
     "data": {
      "text/html": [
       "<div>\n",
       "<style scoped>\n",
       "    .dataframe tbody tr th:only-of-type {\n",
       "        vertical-align: middle;\n",
       "    }\n",
       "\n",
       "    .dataframe tbody tr th {\n",
       "        vertical-align: top;\n",
       "    }\n",
       "\n",
       "    .dataframe thead th {\n",
       "        text-align: right;\n",
       "    }\n",
       "</style>\n",
       "<table border=\"1\" class=\"dataframe\">\n",
       "  <thead>\n",
       "    <tr style=\"text-align: right;\">\n",
       "      <th></th>\n",
       "      <th>IUPAC Name</th>\n",
       "      <th>SMILES</th>\n",
       "      <th>Canonical SMILES</th>\n",
       "      <th>InChIKey</th>\n",
       "      <th>mouse_intraperitoneal_LD50</th>\n",
       "    </tr>\n",
       "  </thead>\n",
       "  <tbody>\n",
       "    <tr>\n",
       "      <th>0</th>\n",
       "      <td>benzene-1,4-diol</td>\n",
       "      <td>Oc1ccc(O)cc1</td>\n",
       "      <td>Oc1ccc(O)cc1</td>\n",
       "      <td>QIGBRXMKCJKVMJ-UHFFFAOYSA-N</td>\n",
       "      <td>3.041835</td>\n",
       "    </tr>\n",
       "    <tr>\n",
       "      <th>1</th>\n",
       "      <td>tris(aziridin-1-yl)-sulfanylidene-lambda5-phos...</td>\n",
       "      <td>S=P(N1CC1)(N1CC1)N1CC1</td>\n",
       "      <td>S=P(N1CC1)(N1CC1)N1CC1</td>\n",
       "      <td>FOCVUCIESVLUNU-UHFFFAOYSA-N</td>\n",
       "      <td>4.235584</td>\n",
       "    </tr>\n",
       "    <tr>\n",
       "      <th>2</th>\n",
       "      <td>1,2,3,4,5,6-hexachlorocyclohexane</td>\n",
       "      <td>ClC1C(Cl)C(Cl)C(Cl)C(Cl)C1Cl</td>\n",
       "      <td>ClC1C(Cl)C(Cl)C(Cl)C(Cl)C1Cl</td>\n",
       "      <td>JLYXXMFPNIAWKQ-UHFFFAOYSA-N</td>\n",
       "      <td>3.366732</td>\n",
       "    </tr>\n",
       "    <tr>\n",
       "      <th>3</th>\n",
       "      <td>3-(diaminomethylidene)-1,1-dimethylguanidine</td>\n",
       "      <td>CN(C)C(=N)N=C(N)N</td>\n",
       "      <td>CN(C)C(=N)N=C(N)N</td>\n",
       "      <td>XZWYZXLIPXDOLR-UHFFFAOYSA-N</td>\n",
       "      <td>2.641604</td>\n",
       "    </tr>\n",
       "    <tr>\n",
       "      <th>4</th>\n",
       "      <td>2-methyl-5-propan-2-ylphenol</td>\n",
       "      <td>Cc1ccc(C(C)C)cc1O</td>\n",
       "      <td>Cc1ccc(C(C)C)cc1O</td>\n",
       "      <td>RECUKUPTGUEGMW-UHFFFAOYSA-N</td>\n",
       "      <td>3.311627</td>\n",
       "    </tr>\n",
       "  </tbody>\n",
       "</table>\n",
       "</div>"
      ],
      "text/plain": [
       "                                          IUPAC Name  \\\n",
       "0                                   benzene-1,4-diol   \n",
       "1  tris(aziridin-1-yl)-sulfanylidene-lambda5-phos...   \n",
       "2                  1,2,3,4,5,6-hexachlorocyclohexane   \n",
       "3       3-(diaminomethylidene)-1,1-dimethylguanidine   \n",
       "4                       2-methyl-5-propan-2-ylphenol   \n",
       "\n",
       "                         SMILES              Canonical SMILES  \\\n",
       "0                  Oc1ccc(O)cc1                  Oc1ccc(O)cc1   \n",
       "1        S=P(N1CC1)(N1CC1)N1CC1        S=P(N1CC1)(N1CC1)N1CC1   \n",
       "2  ClC1C(Cl)C(Cl)C(Cl)C(Cl)C1Cl  ClC1C(Cl)C(Cl)C(Cl)C(Cl)C1Cl   \n",
       "3             CN(C)C(=N)N=C(N)N             CN(C)C(=N)N=C(N)N   \n",
       "4             Cc1ccc(C(C)C)cc1O             Cc1ccc(C(C)C)cc1O   \n",
       "\n",
       "                      InChIKey  mouse_intraperitoneal_LD50  \n",
       "0  QIGBRXMKCJKVMJ-UHFFFAOYSA-N                    3.041835  \n",
       "1  FOCVUCIESVLUNU-UHFFFAOYSA-N                    4.235584  \n",
       "2  JLYXXMFPNIAWKQ-UHFFFAOYSA-N                    3.366732  \n",
       "3  XZWYZXLIPXDOLR-UHFFFAOYSA-N                    2.641604  \n",
       "4  RECUKUPTGUEGMW-UHFFFAOYSA-N                    3.311627  "
      ]
     },
     "execution_count": 7,
     "metadata": {},
     "output_type": "execute_result"
    }
   ],
   "source": [
    "data.head()"
   ]
  },
  {
   "cell_type": "code",
   "execution_count": 8,
   "id": "2b5f2226",
   "metadata": {},
   "outputs": [
    {
     "name": "stdout",
     "output_type": "stream",
     "text": [
      "IUPAC Name                    1919\n",
      "SMILES                           0\n",
      "Canonical SMILES                 0\n",
      "InChIKey                        38\n",
      "mouse_intraperitoneal_LD50       0\n",
      "dtype: int64\n"
     ]
    }
   ],
   "source": [
    "print(data.isnull().sum())\n"
   ]
  },
  {
   "cell_type": "code",
   "execution_count": 9,
   "id": "31356f51",
   "metadata": {},
   "outputs": [],
   "source": [
    "data = data.dropna"
   ]
  },
  {
   "cell_type": "code",
   "execution_count": 13,
   "id": "338a308b",
   "metadata": {},
   "outputs": [
    {
     "ename": "AttributeError",
     "evalue": "'function' object has no attribute 'head'",
     "output_type": "error",
     "traceback": [
      "\u001b[31m---------------------------------------------------------------------------\u001b[39m",
      "\u001b[31mAttributeError\u001b[39m                            Traceback (most recent call last)",
      "\u001b[36mCell\u001b[39m\u001b[36m \u001b[39m\u001b[32mIn[13]\u001b[39m\u001b[32m, line 1\u001b[39m\n\u001b[32m----> \u001b[39m\u001b[32m1\u001b[39m \u001b[43mdata\u001b[49m\u001b[43m.\u001b[49m\u001b[43mhead\u001b[49m()\n",
      "\u001b[31mAttributeError\u001b[39m: 'function' object has no attribute 'head'"
     ]
    }
   ],
   "source": [
    "data.head()"
   ]
  }
 ],
 "metadata": {
  "kernelspec": {
   "display_name": "Python 3",
   "language": "python",
   "name": "python3"
  },
  "language_info": {
   "codemirror_mode": {
    "name": "ipython",
    "version": 3
   },
   "file_extension": ".py",
   "mimetype": "text/x-python",
   "name": "python",
   "nbconvert_exporter": "python",
   "pygments_lexer": "ipython3",
   "version": "3.11.9"
  }
 },
 "nbformat": 4,
 "nbformat_minor": 5
}

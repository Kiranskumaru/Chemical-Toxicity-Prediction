{
 "cells": [
  {
   "cell_type": "code",
   "execution_count": 28,
   "id": "dc51a997",
   "metadata": {},
   "outputs": [],
   "source": [
    "import pandas as pd\n",
    "import sklearn \n"
   ]
  },
  {
   "cell_type": "code",
   "execution_count": 64,
   "id": "fbaf6299",
   "metadata": {},
   "outputs": [],
   "source": [
    "df= pd.read_csv(\"Acute Toxicity_mouse_intraperitoneal_LD50.csv\")"
   ]
  },
  {
   "cell_type": "code",
   "execution_count": null,
   "id": "d5172c14",
   "metadata": {},
   "outputs": [],
   "source": []
  },
  {
   "cell_type": "code",
   "execution_count": 65,
   "id": "e30418bc",
   "metadata": {},
   "outputs": [
    {
     "data": {
      "text/html": [
       "<div>\n",
       "<style scoped>\n",
       "    .dataframe tbody tr th:only-of-type {\n",
       "        vertical-align: middle;\n",
       "    }\n",
       "\n",
       "    .dataframe tbody tr th {\n",
       "        vertical-align: top;\n",
       "    }\n",
       "\n",
       "    .dataframe thead th {\n",
       "        text-align: right;\n",
       "    }\n",
       "</style>\n",
       "<table border=\"1\" class=\"dataframe\">\n",
       "  <thead>\n",
       "    <tr style=\"text-align: right;\">\n",
       "      <th></th>\n",
       "      <th>TAID</th>\n",
       "      <th>Pubchem CID</th>\n",
       "      <th>IUPAC Name</th>\n",
       "      <th>SMILES</th>\n",
       "      <th>Canonical SMILES</th>\n",
       "      <th>InChIKey</th>\n",
       "      <th>mouse_intraperitoneal_LD50</th>\n",
       "    </tr>\n",
       "  </thead>\n",
       "  <tbody>\n",
       "    <tr>\n",
       "      <th>0</th>\n",
       "      <td>TOX-145</td>\n",
       "      <td>785</td>\n",
       "      <td>benzene-1,4-diol</td>\n",
       "      <td>Oc1ccc(O)cc1</td>\n",
       "      <td>Oc1ccc(O)cc1</td>\n",
       "      <td>QIGBRXMKCJKVMJ-UHFFFAOYSA-N</td>\n",
       "      <td>3.041835</td>\n",
       "    </tr>\n",
       "    <tr>\n",
       "      <th>1</th>\n",
       "      <td>TOX-245</td>\n",
       "      <td>5453</td>\n",
       "      <td>tris(aziridin-1-yl)-sulfanylidene-lambda5-phos...</td>\n",
       "      <td>S=P(N1CC1)(N1CC1)N1CC1</td>\n",
       "      <td>S=P(N1CC1)(N1CC1)N1CC1</td>\n",
       "      <td>FOCVUCIESVLUNU-UHFFFAOYSA-N</td>\n",
       "      <td>4.235584</td>\n",
       "    </tr>\n",
       "    <tr>\n",
       "      <th>2</th>\n",
       "      <td>TOX-1273</td>\n",
       "      <td>727</td>\n",
       "      <td>1,2,3,4,5,6-hexachlorocyclohexane</td>\n",
       "      <td>ClC1C(Cl)C(Cl)C(Cl)C(Cl)C1Cl</td>\n",
       "      <td>ClC1C(Cl)C(Cl)C(Cl)C(Cl)C1Cl</td>\n",
       "      <td>JLYXXMFPNIAWKQ-UHFFFAOYSA-N</td>\n",
       "      <td>3.366732</td>\n",
       "    </tr>\n",
       "    <tr>\n",
       "      <th>3</th>\n",
       "      <td>TOX-1279</td>\n",
       "      <td>4091</td>\n",
       "      <td>3-(diaminomethylidene)-1,1-dimethylguanidine</td>\n",
       "      <td>CN(C)C(=N)N=C(N)N</td>\n",
       "      <td>CN(C)C(=N)N=C(N)N</td>\n",
       "      <td>XZWYZXLIPXDOLR-UHFFFAOYSA-N</td>\n",
       "      <td>2.641604</td>\n",
       "    </tr>\n",
       "    <tr>\n",
       "      <th>4</th>\n",
       "      <td>TOX-1282</td>\n",
       "      <td>10364</td>\n",
       "      <td>2-methyl-5-propan-2-ylphenol</td>\n",
       "      <td>Cc1ccc(C(C)C)cc1O</td>\n",
       "      <td>Cc1ccc(C(C)C)cc1O</td>\n",
       "      <td>RECUKUPTGUEGMW-UHFFFAOYSA-N</td>\n",
       "      <td>3.311627</td>\n",
       "    </tr>\n",
       "  </tbody>\n",
       "</table>\n",
       "</div>"
      ],
      "text/plain": [
       "       TAID  Pubchem CID                                         IUPAC Name  \\\n",
       "0   TOX-145          785                                   benzene-1,4-diol   \n",
       "1   TOX-245         5453  tris(aziridin-1-yl)-sulfanylidene-lambda5-phos...   \n",
       "2  TOX-1273          727                  1,2,3,4,5,6-hexachlorocyclohexane   \n",
       "3  TOX-1279         4091       3-(diaminomethylidene)-1,1-dimethylguanidine   \n",
       "4  TOX-1282        10364                       2-methyl-5-propan-2-ylphenol   \n",
       "\n",
       "                         SMILES              Canonical SMILES  \\\n",
       "0                  Oc1ccc(O)cc1                  Oc1ccc(O)cc1   \n",
       "1        S=P(N1CC1)(N1CC1)N1CC1        S=P(N1CC1)(N1CC1)N1CC1   \n",
       "2  ClC1C(Cl)C(Cl)C(Cl)C(Cl)C1Cl  ClC1C(Cl)C(Cl)C(Cl)C(Cl)C1Cl   \n",
       "3             CN(C)C(=N)N=C(N)N             CN(C)C(=N)N=C(N)N   \n",
       "4             Cc1ccc(C(C)C)cc1O             Cc1ccc(C(C)C)cc1O   \n",
       "\n",
       "                      InChIKey  mouse_intraperitoneal_LD50  \n",
       "0  QIGBRXMKCJKVMJ-UHFFFAOYSA-N                    3.041835  \n",
       "1  FOCVUCIESVLUNU-UHFFFAOYSA-N                    4.235584  \n",
       "2  JLYXXMFPNIAWKQ-UHFFFAOYSA-N                    3.366732  \n",
       "3  XZWYZXLIPXDOLR-UHFFFAOYSA-N                    2.641604  \n",
       "4  RECUKUPTGUEGMW-UHFFFAOYSA-N                    3.311627  "
      ]
     },
     "execution_count": 65,
     "metadata": {},
     "output_type": "execute_result"
    }
   ],
   "source": [
    "df.head()"
   ]
  },
  {
   "cell_type": "code",
   "execution_count": 66,
   "id": "c3879752",
   "metadata": {},
   "outputs": [],
   "source": [
    "df = df.drop(columns=['TAID', 'Pubchem CID', 'IUPAC Name', 'InChIKey'])\n",
    "# Or keep only these:\n",
    "# df = df[['Canonical SMILES', 'mouse_intraperitoneal_LD50']]\n"
   ]
  },
  {
   "cell_type": "code",
   "execution_count": 67,
   "id": "fde2e845",
   "metadata": {},
   "outputs": [
    {
     "name": "stdout",
     "output_type": "stream",
     "text": [
      "SMILES                        0\n",
      "Canonical SMILES              0\n",
      "mouse_intraperitoneal_LD50    0\n",
      "dtype: int64\n"
     ]
    }
   ],
   "source": [
    "print(df.isnull().sum())\n",
    "df = df.dropna()  # Drop rows with missing SMILES or LD50\n"
   ]
  },
  {
   "cell_type": "code",
   "execution_count": 68,
   "id": "2b5f2226",
   "metadata": {},
   "outputs": [],
   "source": [
    "from rdkit import Chem\n",
    "\n",
    "df['Mol'] = df['Canonical SMILES'].apply(lambda x: Chem.MolFromSmiles(x))\n",
    "df = df[df['Mol'].notnull()]\n"
   ]
  },
  {
   "cell_type": "code",
   "execution_count": 69,
   "id": "31356f51",
   "metadata": {},
   "outputs": [],
   "source": [
    "from rdkit.ML.Descriptors import MoleculeDescriptors\n",
    "from rdkit.Chem import Descriptors\n",
    "\n",
    "descriptor_names = [desc[0] for desc in Descriptors._descList]\n",
    "calc = MoleculeDescriptors.MolecularDescriptorCalculator(descriptor_names)\n",
    "\n",
    "def compute_all_descriptors(mol):\n",
    "    return calc.CalcDescriptors(mol)\n",
    "\n",
    "desc_values = df['Mol'].apply(compute_all_descriptors)\n",
    "desc_df = pd.DataFrame(desc_values.tolist(), columns=descriptor_names)\n",
    "\n",
    "# Add the target LD50 column\n",
    "data = pd.concat([desc_df, df['mouse_intraperitoneal_LD50']], axis=1)\n"
   ]
  },
  {
   "cell_type": "code",
   "execution_count": 70,
   "id": "bcf202f5",
   "metadata": {},
   "outputs": [],
   "source": [
    "# Remove NaN or infinite columns\n",
    "desc_df = desc_df.replace([np.inf, -np.inf], np.nan).dropna(axis=1)\n",
    "\n",
    "# Drop constant features\n",
    "desc_df = desc_df.loc[:, desc_df.nunique() > 1]\n"
   ]
  },
  {
   "cell_type": "code",
   "execution_count": 75,
   "id": "86555247",
   "metadata": {},
   "outputs": [
    {
     "name": "stdout",
     "output_type": "stream",
     "text": [
      "MaxAbsEStateIndex    float64\n",
      "MaxEStateIndex       float64\n",
      "MinAbsEStateIndex    float64\n",
      "MinEStateIndex       float64\n",
      "qed                  float64\n",
      "                      ...   \n",
      "fr_thiazole          float64\n",
      "fr_thiocyan          float64\n",
      "fr_thiophene         float64\n",
      "fr_unbrch_alkane     float64\n",
      "fr_urea              float64\n",
      "Length: 194, dtype: object\n"
     ]
    }
   ],
   "source": [
    "X = desc_df.astype(float)\n",
    "y = pd.to_numeric(df['mouse_intraperitoneal_LD50'], errors='coerce')\n",
    "print(X.dtypes)  # Should all be float64\n",
    "\n"
   ]
  },
  {
   "cell_type": "code",
   "execution_count": 100,
   "id": "ebdf7638",
   "metadata": {},
   "outputs": [],
   "source": [
    "from sklearn.model_selection import train_test_split\n",
    "from sklearn.ensemble import RandomForestRegressor\n",
    "X_train, X_test, y_train, y_test = train_test_split(X, y, test_size=0.2, random_state=42)"
   ]
  },
  {
   "cell_type": "code",
   "execution_count": 101,
   "id": "8f245ad3",
   "metadata": {},
   "outputs": [
    {
     "name": "stdout",
     "output_type": "stream",
     "text": [
      "Max value in X_train: 1.291717546675529e+41\n",
      "Min value in X_train: -81.74940919808004\n",
      "Columns with extreme values: ['Ipc']\n"
     ]
    }
   ],
   "source": [
    "print(\"Max value in X_train:\", X_train.max().max())\n",
    "print(\"Min value in X_train:\", X_train.min().min())\n",
    "\n",
    "# Identify which columns have extreme values\n",
    "extreme_cols = X_train.columns[(X_train > 1e38).any() | (X_train < -1e38).any()]\n",
    "print(\"Columns with extreme values:\", list(extreme_cols))\n"
   ]
  },
  {
   "cell_type": "code",
   "execution_count": 102,
   "id": "09547fb2",
   "metadata": {},
   "outputs": [],
   "source": [
    "X_train = X_train.drop(columns=['Ipc'])\n",
    "X_test = X_test.drop(columns=['Ipc'])  # if using a test set\n"
   ]
  },
  {
   "cell_type": "code",
   "execution_count": 103,
   "id": "2db0e3f9",
   "metadata": {},
   "outputs": [
    {
     "name": "stdout",
     "output_type": "stream",
     "text": [
      "Max value in X_train: 9507.96\n",
      "Min value in X_train: -81.74940919808004\n",
      "Columns with extreme values: []\n"
     ]
    }
   ],
   "source": [
    "print(\"Max value in X_train:\", X_train.max().max())\n",
    "print(\"Min value in X_train:\", X_train.min().min())\n",
    "\n",
    "# Identify which columns have extreme values\n",
    "extreme_cols = X_train.columns[(X_train > 1e38).any() | (X_train < -1e38).any()]\n",
    "print(\"Columns with extreme values:\", list(extreme_cols))"
   ]
  },
  {
   "cell_type": "code",
   "execution_count": 104,
   "id": "e57b12b9",
   "metadata": {},
   "outputs": [
    {
     "data": {
      "text/plain": [
       "RandomForestRegressor(random_state=42)"
      ]
     },
     "execution_count": 104,
     "metadata": {},
     "output_type": "execute_result"
    }
   ],
   "source": [
    "\n",
    "model = RandomForestRegressor(n_estimators=100, random_state=42)\n",
    "model.fit(X_train, y_train)\n"
   ]
  },
  {
   "cell_type": "code",
   "execution_count": 106,
   "id": "0cd09931",
   "metadata": {},
   "outputs": [
    {
     "name": "stdout",
     "output_type": "stream",
     "text": [
      "Chi3n                0.053515\n",
      "SMR_VSA6             0.051401\n",
      "Chi2n                0.039048\n",
      "MolLogP              0.029600\n",
      "SlogP_VSA2           0.026409\n",
      "PEOE_VSA1            0.023682\n",
      "SMR_VSA5             0.019087\n",
      "VSA_EState2          0.017802\n",
      "fr_quatN             0.017760\n",
      "BalabanJ             0.016126\n",
      "fr_alkyl_halide      0.015988\n",
      "PEOE_VSA11           0.014377\n",
      "VSA_EState4          0.014093\n",
      "MinEStateIndex       0.013266\n",
      "PEOE_VSA9            0.013085\n",
      "VSA_EState9          0.013041\n",
      "MinAbsEStateIndex    0.012282\n",
      "AvgIpc               0.012269\n",
      "VSA_EState8          0.012253\n",
      "PEOE_VSA7            0.012169\n",
      "dtype: float64\n"
     ]
    }
   ],
   "source": [
    "important_features = pd.Series(model.feature_importances_, index=X_train.columns).sort_values(ascending=False)\n",
    "top_features = important_features.head(20)\n",
    "print(top_features)\n"
   ]
  },
  {
   "cell_type": "code",
   "execution_count": 107,
   "id": "400de8ab",
   "metadata": {},
   "outputs": [],
   "source": [
    "# Subset your cleaned or imputed descriptor dataset using the top 20 features\n",
    "X_top20 = X_train[top_features.index]\n",
    "X_test_top20 = X_test[top_features.index]\n"
   ]
  },
  {
   "cell_type": "code",
   "execution_count": 109,
   "id": "9fe558a3",
   "metadata": {},
   "outputs": [],
   "source": [
    "from sklearn.ensemble import RandomForestRegressor\n",
    "from sklearn.metrics import mean_squared_error, r2_score\n",
    "\n",
    "model_top20 = RandomForestRegressor(n_estimators=100, random_state=42)\n",
    "model_top20.fit(X_top20, y_train)\n",
    "\n",
    "# Predict on the test set\n",
    "y_pred = model_top20.predict(X_test_top20)\n"
   ]
  },
  {
   "cell_type": "code",
   "execution_count": 110,
   "id": "94112393",
   "metadata": {},
   "outputs": [
    {
     "name": "stdout",
     "output_type": "stream",
     "text": [
      "Mean Squared Error (MSE): 0.24\n",
      "R² Score: 0.501\n"
     ]
    }
   ],
   "source": [
    "# Evaluation metrics\n",
    "mse = mean_squared_error(y_test, y_pred)\n",
    "r2 = r2_score(y_test, y_pred)\n",
    "\n",
    "print(f\"Mean Squared Error (MSE): {mse:.2f}\")\n",
    "print(f\"R² Score: {r2:.3f}\")\n"
   ]
  },
  {
   "cell_type": "code",
   "execution_count": 112,
   "id": "77303e59",
   "metadata": {},
   "outputs": [
    {
     "name": "stdout",
     "output_type": "stream",
     "text": [
      "R² (Ridge): 0.16447419788435336\n"
     ]
    }
   ],
   "source": [
    "from sklearn.linear_model import Ridge, Lasso\n",
    "from sklearn.svm import SVR\n",
    "from xgboost import XGBRegressor\n",
    "\n",
    "# Example: Ridge Regression\n",
    "ridge = Ridge(alpha=1.0)\n",
    "ridge.fit(X_top20, y_train)\n",
    "print(\"R² (Ridge):\", ridge.score(X_test_top20, y_test))\n"
   ]
  },
  {
   "cell_type": "code",
   "execution_count": null,
   "id": "32715374",
   "metadata": {},
   "outputs": [],
   "source": [
    "import matplotlib.pyplot as plt\n",
    "\n",
    "plt.scatter(y_test, y_pred, alpha=0.7)\n",
    "plt.xlabel(\"Actual LD50\")\n",
    "plt.ylabel(\"Predicted LD50\")\n",
    "plt.title(\"Actual vs Predicted LD50 using Top 20 Descriptors\")\n",
    "plt.plot([y_test.min(), y_test.max()], [y_test.min(), y_test.max()], 'r--')\n",
    "plt.grid(True)\n",
    "plt.show()\n"
   ]
  }
 ],
 "metadata": {
  "kernelspec": {
   "display_name": "ChemProject",
   "language": "python",
   "name": "python3"
  },
  "language_info": {
   "codemirror_mode": {
    "name": "ipython",
    "version": 3
   },
   "file_extension": ".py",
   "mimetype": "text/x-python",
   "name": "python",
   "nbconvert_exporter": "python",
   "pygments_lexer": "ipython3",
   "version": "3.7.16"
  }
 },
 "nbformat": 4,
 "nbformat_minor": 5
}
